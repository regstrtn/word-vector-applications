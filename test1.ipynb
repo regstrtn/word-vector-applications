{
 "cells": [
  {
   "cell_type": "code",
   "execution_count": 17,
   "metadata": {
    "collapsed": true
   },
   "outputs": [],
   "source": [
    "import gzip\n",
    "import os\n",
    "\n",
    "## paths to files. Do not change this\n",
    "simInputFile = \"Q1/word-similarity-dataset\"\n",
    "analogyInputFile = \"Q1/word-analogy-dataset\"\n",
    "vectorgzipFile = \"Q1/glove.6B.300d.txt.gz\"\n",
    "#vectorTxtFile = \"Q1/glove.6B.300d.txt\"   # If you extract and use the gz file, use this.\n",
    "analogyTrainPath = \"Q1/wordRep/\"\n",
    "simOutputFile = \"Q1/simOutput.csv\"\n",
    "simSummaryFile = \"Q1/simSummary.csv\"\n",
    "anaSOln = \"Q1/analogySolution.csv\"\n",
    "Q4List = \"Q4/wordList.csv\""
   ]
  },
  {
   "cell_type": "code",
   "execution_count": 23,
   "metadata": {
    "collapsed": false
   },
   "outputs": [
    {
     "name": "stdout",
     "output_type": "stream",
     "text": [
      "895\n",
      "retrieved 889\n"
     ]
    }
   ],
   "source": [
    "# Similarity Dataset\n",
    "simDataset = [item.split(\" | \") for item in open(simInputFile).read().splitlines()]\n",
    "# Analogy dataset\n",
    "analogyDataset = [[stuff.strip() for stuff in item.strip('\\n').split('\\n')] for item in open(analogyInputFile).read().split('\\n\\n')]\n",
    "\n",
    "def vectorExtract(simD = simDataset, anaD = analogyDataset, vect = vectorgzipFile):\n",
    "    simList = [stuff for item in simD for stuff in item]\n",
    "    analogyList = [thing for item in anaD for stuff in item[0:4] for thing in stuff.split()]\n",
    "    simList.extend(analogyList)\n",
    "    wordList = set(simList)\n",
    "    print(len(wordList))\n",
    "    wordDict = dict()\n",
    "    \n",
    "    vectorFile = gzip.open(vect, 'r')\n",
    "    for line in vectorFile:\n",
    "        if line.split()[0].strip().decode(\"utf-8\") in wordList:\n",
    "            wordDict[line.split()[0].strip()] = line.split()[1:]\n",
    "    \n",
    "    \n",
    "    vectorFile.close()\n",
    "    print('retrieved', len(wordDict.keys()))\n",
    "    return wordDict\n",
    "\n",
    "# Extracting Vectors from Analogy and Similarity Dataset\n",
    "validateVectors = vectorExtract()"
   ]
  },
  {
   "cell_type": "code",
   "execution_count": 24,
   "metadata": {
    "collapsed": false
   },
   "outputs": [
    {
     "name": "stdout",
     "output_type": "stream",
     "text": [
      "dict_keys([b'unit', b'devastated', b'time', b'criterion', b'wallet', b'tourniquet', b'clamp', b'softness', b'yeast', b'teacher', b'sycophant', b'observer', b'remarkable', b'contest', b'tension', b'billboard', b'movement', b'shear', b'vital', b'ship', b'direct', b'demean', b'values', b'grove', b'lock', b'decibel', b'eulogy', b'plain', b'congeal', b'foolhardy', b'hoist', b'ramble', b'stomp', b'arid', b'library', b'game', b'hatred', b'museum', b'invisible', b'society', b'building', b'store', b'dim', b'fluid', b'bonus', b'meal', b'hide', b'scamper', b'hear', b'wealth', b'coop', b'books', b'contemplate', b'manual', b'punishment', b'school', b'policy', b'wrong', b'cat', b'activity', b'importance', b'create', b'banish', b'larceny', b'goose', b'lion', b'subtitle', b'hypothesis', b'weigh', b'cajole', b'breathe', b'charitable', b'restrained', b'dot', b'sequel', b'sympathy', b'huge', b'sculpture', b'distance', b'heal', b'key', b'document', b'head', b'story', b'detective', b'growth', b'wheel', b'sound', b'note', b'affectation', b'gaunt', b'night', b'fire', b'abbreviation', b'blueprints', b'sweetness', b'devour', b'poultry', b'organ', b'glutton', b'starve', b'work', b'safe', b'gaze', b'obedience', b'disprove', b'shiny', b'sully', b'pointed', b'condition', b'authority', b'performer', b'air', b'construction', b'testimony', b'illegible', b'lecture', b'diary', b'debatable', b'volume', b'eight', b'suitcase', b'canal', b'calm', b'enmity', b'exact', b'crib', b'cartographer', b'truth', b'lotion', b'stability', b'drop', b'moderation', b'cloying', b'wing', b'sprint', b'bashful', b'navigate', b'practiced', b'topics', b'compensation', b'sleepy', b'carnal', b'treachery', b'agenda', b'advertisement', b'sharp', b'odometer', b'forlorn', b'spend', b'octagon', b'language', b'hand', b'camera', b'mutter', b'grip', b'insomnia', b'fiction', b'boast', b'dancer', b'stream', b'wool', b'president', b'body', b'pallid', b'illness', b'compose', b'violence', b'stamp', b'swarm', b'respect', b'name', b'plant', b'pariah', b'accuse', b'cleanse', b'scoundrel', b'athlete', b'condense', b'thanks', b'skyline', b'tunnel', b'mine', b'recite', b'line', b'thread', b'square', b'refinement', b'skeleton', b'submissiveness', b'playwright', b'supervisor', b'stars', b'sluggish', b'lubricant', b'proximity', b'belligerent', b'destitution', b'manager', b'frugal', b'figure', b'comrade', b'equal', b'compliance', b'insecure', b'accord', b'roster', b'beg', b'plot', b'ear', b'election', b'smoothly', b'bread', b'license', b'merrymaking', b'letter', b'habitable', b'precious', b'copyright', b'diner', b'bleeding', b'urge', b'shock', b'erase', b'apologetic', b'flee', b'talented', b'clothing', b'remuneration', b'rudder', b'artistic', b'wheat', b'soluble', b'coach', b'translation', b'pledge', b'amplifier', b'players', b'ostrich', b'nations', b'discharge', b'depth', b'see', b'attention', b'compassion', b'submit', b'unite', b'mason', b'gourmand', b'paper', b'abrasive', b'word', b'blackboard', b'swerve', b'symbol', b'sign', b'breath', b'amplify', b'nobility', b'hub', b'size', b'century', b'division', b'uncertainty', b'jubilation', b'inaccurate', b'plug', b'light', b'claim', b'student', b'design', b'secrets', b'irrational', b'listener', b'viscous', b'skull', b'loyalty', b'vine', b'faulty', b'exhaustion', b'hierarchy', b'stage', b'group', b'band', b'elongated', b'opposition', b'diversion', b'limit', b'index', b'bind', b'rowboat', b'ignorant', b'morality', b'idol', b'sheep', b'insects', b'decade', b'praise', b'sweep', b'wet', b'braggart', b'day', b'betray', b'moisture', b'waterway', b'pale', b'quart', b'fight', b'follower', b'scapegoat', b'value', b'graph', b'corps', b'manuscript', b'mean', b'honey', b'panel', b'insert', b'extravagant', b'office', b'achievement', b'cows', b'crew', b'maps', b'battery', b'uproar', b'entreat', b'greet', b'applaud', b'reveler', b'tranquillity', b'discretion', b'anarchist', b'thin', b'ensemble', b'corner', b'indiscretion', b'dingy', b'play', b'rotund', b'separable', b'dissent', b'unrealistic', b'renovate', b'bar', b'appraise', b'adversary', b'platoon', b'bees', b'joint', b'philanthropic', b'heckler', b'epilogue', b'microscope', b'employer', b'city', b'collusion', b'deceive', b'feign', b'gauge', b'round', b'expertise', b'music', b'restraint', b'carpenter', b'capacity', b'condescending', b'immunize', b'members', b'hunger', b'stop', b'flammable', b'waiter', b'trial', b'clairvoyant', b'custom', b'avaricious', b'evidence', b'exile', b'quarrel', b'client', b'adulation', b'snake', b'paramount', b'erasure', b'write', b'flock', b'tropical', b'orchestra', b'brain', b'soothe', b'audience', b'clue', b'gift', b'wood', b'ewe', b'illustrate', b'exaggeration', b'neighbor', b'querulous', b'wastefulness', b'board', b'perception', b'barley', b'firebrand', b'scholars', b'drift', b'repaired', b'parched', b'tanned', b'detour', b'interrupt', b'leather', b'mile', b'shabby', b'chief', b'lease', b'ostracism', b'title', b'slide', b'bruise', b'sentence', b'flight', b'apology', b'meeting', b'patron', b'houses', b'outcast', b'assertion', b'conclusion', b'boredom', b'clothes', b'water', b'lull', b'hope', b'stone', b'fabric', b'reward', b'adhere', b'page', b'clique', b'cook', b'genial', b'instrument', b'binomial', b'rangers', b'fish', b'poetry', b'musician', b'flow', b'choleric', b'gun', b'artworks', b'complacency', b'transparent', b'period', b'pitch', b'telescope', b'polish', b'separate', b'corroborate', b'crass', b'anger', b'understanding', b'vex', b'wary', b'outsider', b'film', b'snack', b'map', b'hospital', b'hang', b'shrubs', b'blaze', b'funny', b'computer', b'energy', b'heavily', b'assurance', b'fruit', b'send', b'ethos', b'bank', b'hedonist', b'happiness', b'flipper', b'instructor', b'quell', b'song', b'veer', b'donation', b'doubt', b'gymnasium', b'bicker', b'portrait', b'walk', b'slippery', b'witness', b'discolored', b'chronicler', b'course', b'demagogue', b'ending', b'people', b'judgment', b'elude', b'receive', b'instability', b'diploma', b'lung', b'train', b'thief', b'escape', b'orchard', b'unethical', b'events', b'short', b'greed', b'precarious', b'shove', b'paint', b'window', b'resilient', b'move', b'singular', b'wildlife', b'lubricate', b'raw', b'thicket', b'revoke', b'refracted', b'softly', b'gratuity', b'fathom', b'modulated', b'meat', b'run', b'term', b'plow', b'color', b'legend', b'outline', b'stain', b'terminate', b'smile', b'symptom', b'contribute', b'inmate', b'ruler', b'secrecy', b'enlighten', b'pupil', b'bibliographer', b'speak', b'elevating', b'aquarium', b'boundaries', b'bird', b'saddle', b'protagonist', b'compute', b'blueprint', b'raspy', b'broom', b'food', b'curator', b'avian', b'novel', b'pinioned', b'blink', b'shrink', b'carnivorous', b'theorist', b'quality', b'book', b'topic', b'obstacle', b'normal', b'principles', b'arm', b'reconciliation', b'finger', b'balk', b'virtue', b'crime', b'sleep', b'technician', b'picnic', b'catnap', b'curiosity', b'laboratory', b'calculator', b'stimulant', b'height', b'pasture', b'parasite', b'livid', b'writing', b'access', b'generous', b'heat', b'behavior', b'mendicant', b'active', b'ballot', b'temperament', b'leadership', b'competent', b'fracture', b'glue', b'disconcert', b'eye', b'emotion', b'army', b'code', b'discovery', b'voice', b'movie', b'relapse', b'franchise', b'solid', b'whittle', b'door', b'recklessness', b'owner', b'fortitude', b'loudness', b'speech', b'trees', b'torpid', b'damage', b'accomplice', b'reap', b'tutor', b'throng', b'shout', b'heart', b'weave', b'demand', b'orator', b'sew', b'exhortation', b'obliging', b'consider', b'fertilizer', b'hue', b'comic', b'regret', b'chalk', b'statue', b'assist', b'boil', b'grain', b'agreement', b'rain', b'servile', b'abridge', b'forest', b'logic', b'facade', b'defiant', b'grudgingly', b'woods', b'opaque', b'tractor', b'prudent', b'prison', b'money', b'straddle', b'complain', b'graduate', b'architect', b'due', b'theater', b'rehearse', b'nudge', b'measure', b'security', b'impure', b'proud', b'picture', b'raucous', b'tiff', b'exclude', b'horse', b'intersection', b'officials', b'appearance', b'labor', b'overflow', b'bottom', b'names', b'peer', b'proof', b'skin', b'patent', b'rhythm', b'trust', b'soldier', b'victory', b'angry', b'cooperation', b'recruit', b'rank', b'accomplishment', b'nursery', b'correction', b'joy', b'weight', b'barricade', b'administrator', b'perfidious', b'slumber', b'surprise', b'amiable', b'one', b'teach', b'magnify', b'stationary', b'serene', b'disease', b'worthlessness', b'conversation', b'rife', b'conduit', b'tree', b'inefficient', b'animosity', b'truculent', b'malinger', b'constellation', b'winner', b'decorate', b'pine', b'apples', b'noisy', b'mend', b'locomotive', b'radiant', b'dangle'])\n"
     ]
    }
   ],
   "source": [
    "anaD = [[stuff.strip() for stuff in item.strip('\\n').split('\\n')] for item in open(analogyInputFile).read().split('\\n\\n')]\n",
    "analogyList = [thing for item in anaD for stuff in item[0:4] for thing in stuff.split()]\n",
    "vect = vectorgzipFile\n",
    "wordDict = dict()\n",
    "wordList = set(analogyList)\n",
    "\n",
    "vectorFile = gzip.open(vect, 'r')\n",
    "for line in vectorFile:\n",
    "    if line.split()[0].strip().decode(\"utf-8\") in wordList:\n",
    "        wordDict[line.split()[0].strip()] = line.split()[1:]\n",
    "print(wordDict.keys())"
   ]
  },
  {
   "cell_type": "code",
   "execution_count": 22,
   "metadata": {
    "collapsed": false
   },
   "outputs": [
    {
     "name": "stdout",
     "output_type": "stream",
     "text": [
      "with is in wodlist\n",
      "{'with'}\n",
      "1\n",
      "b'the' 3 <class 'str'>\n",
      "b',' 1 <class 'str'>\n",
      "b'.' 1 <class 'str'>\n",
      "b'of' 2 <class 'str'>\n",
      "b'to' 2 <class 'str'>\n",
      "b'and' 3 <class 'str'>\n",
      "b'in' 2 <class 'str'>\n",
      "b'a' 1 <class 'str'>\n",
      "b'\"' 1 <class 'str'>\n",
      "b\"'s\" 2 <class 'str'>\n"
     ]
    }
   ],
   "source": [
    "i = 0\n",
    "vectorFile = gzip.open(vect, 'r')\n",
    "wordList = set()\n",
    "wordList.add('with')\n",
    "if('with' in wordList):\n",
    "    print(\"with is in wodlist\")\n",
    "print(wordList)\n",
    "print(len(wordList))\n",
    "for line in vectorFile:\n",
    "    l = line.split()[0].strip()\n",
    "    print(l, len(l), type(str(l)))\n",
    "    if(l in wordList):\n",
    "        print(l, \"found in wordlist\")\n",
    "    i +=1\n",
    "    if(i==10): break"
   ]
  },
  {
   "cell_type": "code",
   "execution_count": null,
   "metadata": {
    "collapsed": true
   },
   "outputs": [],
   "source": []
  }
 ],
 "metadata": {
  "kernelspec": {
   "display_name": "Python 3",
   "language": "python",
   "name": "python3"
  },
  "language_info": {
   "codemirror_mode": {
    "name": "ipython",
    "version": 3
   },
   "file_extension": ".py",
   "mimetype": "text/x-python",
   "name": "python",
   "nbconvert_exporter": "python",
   "pygments_lexer": "ipython3",
   "version": "3.5.2"
  }
 },
 "nbformat": 4,
 "nbformat_minor": 2
}
