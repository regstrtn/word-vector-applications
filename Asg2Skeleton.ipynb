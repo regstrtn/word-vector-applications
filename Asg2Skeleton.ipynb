{
 "cells": [
  {
   "cell_type": "markdown",
   "metadata": {
    "deletable": true,
    "editable": true
   },
   "source": [
    "Deep Learning Programming Assignment 2\n",
    "--------------------------------------\n",
    "Name:\n",
    "Roll No.:\n",
    "\n",
    "Submission Instructions:\n",
    "1. Fill your name and roll no in the space provided above.\n",
    "2. Name your folder in format <Roll No>_<First Name>.\n",
    "    For example 12CS10001_Rohan\n",
    "3. Submit a zipped format of the file (.zip only).\n",
    "4. Submit all your codes. But do not submit any of your datafiles\n",
    "5. From output files submit only the following 3 files. simOutput.csv, simSummary.csv, analogySolution.csv\n",
    "6. Place the three files in a folder \"output\", inside the zip."
   ]
  },
  {
   "cell_type": "code",
   "execution_count": 59,
   "metadata": {
    "collapsed": false,
    "deletable": true,
    "editable": true
   },
   "outputs": [],
   "source": [
    "import gzip\n",
    "import os\n",
    "\n",
    "## paths to files. Do not change this\n",
    "simInputFile = \"Q1/word-similarity-dataset\"\n",
    "analogyInputFile = \"Q1/word-analogy-dataset\"\n",
    "vectorgzipFile = \"Q1/glove.6B.300d.txt.gz\"\n",
    "vectorTxtFile = \"Q1/glove.6B.300d.txt\"   # If you extract and use the gz file, use this.\n",
    "analogyTrainPath = \"Q1/wordRep/\"\n",
    "simOutputFile = \"Q1/simOutput.csv\"\n",
    "simSummaryFile = \"Q1/simSummary.csv\"\n",
    "anaSOln = \"Q1/analogySolution.csv\"\n",
    "Q4List = \"Q4/wordList.csv\"\n",
    "\n",
    "\n"
   ]
  },
  {
   "cell_type": "code",
   "execution_count": null,
   "metadata": {
    "collapsed": true,
    "deletable": true,
    "editable": true
   },
   "outputs": [],
   "source": [
    "# Similarity Dataset\n",
    "simDataset = [item.split(\" | \") for item in open(simInputFile).read().splitlines()]\n",
    "# Analogy dataset\n",
    "analogyDataset = [[stuff.strip() for stuff in item.strip('\\n').split('\\n')] for item in open(analogyInputFile).read().split('\\n\\n')]\n",
    "\n",
    "def vectorExtract(simD = simDataset, anaD = analogyDataset, vect = vectorgzipFile):\n",
    "    simList = [stuff for item in simD for stuff in item]\n",
    "    analogyList = [thing for item in anaD for stuff in item[0:4] for thing in stuff.split()]\n",
    "    simList.extend(analogyList)\n",
    "    wordList = set(simList)\n",
    "    print len(wordList)\n",
    "    wordDict = dict()\n",
    "    \n",
    "    vectorFile = gzip.open(vect, 'r')\n",
    "    for line in vectorFile:\n",
    "        if line.split()[0].strip() in wordList:\n",
    "            wordDict[line.split()[0].strip()] = line.split()[1:]\n",
    "    \n",
    "    \n",
    "    vectorFile.close()\n",
    "    print 'retrieved', len(wordDict.keys())\n",
    "    return wordDict\n",
    "\n",
    "# Extracting Vectors from Analogy and Similarity Dataset\n",
    "validateVectors = vectorExtract()"
   ]
  },
  {
   "cell_type": "code",
   "execution_count": null,
   "metadata": {
    "collapsed": true,
    "deletable": true,
    "editable": true
   },
   "outputs": [],
   "source": [
    "# Dictionary of training pairs for the analogy task\n",
    "trainDict = dict()\n",
    "for subDirs in os.listdir(analogyTrainPath):\n",
    "    for files in os.listdir(analogyTrainPath+subDirs+'/'):\n",
    "        f = open(analogyTrainPath+subDirs+'/'+files).read().splitlines()\n",
    "        trainDict[files] = f\n",
    "print len(trainDict.keys())"
   ]
  },
  {
   "cell_type": "code",
   "execution_count": 58,
   "metadata": {
    "collapsed": false,
    "deletable": true,
    "editable": true
   },
   "outputs": [],
   "source": [
    "\n",
    "def similarityTask(inputDS = simDataset, outputFile = simOutputFile, summaryFile=simSummaryFile, vectors=validateVectors):\n",
    "    print 'hello world'\n",
    "\n",
    "    \"\"\"\n",
    "    Output simSummary.csv in the following format\n",
    "    Distance Metric, Number of questions which are correct, Total questions evalauted, MRR\n",
    "    C, 37, 40, 0.61\n",
    "    \"\"\"\n",
    "\n",
    "    \"\"\"\n",
    "    Output a CSV file titled \"simOutput.csv\" with the following columns\n",
    "\n",
    "    file_line-number, query word, option word i, distance metric(C/E/M), similarity score \n",
    "\n",
    "    For the line \"rusty | corroded | black | dirty | painted\", the outptut will be\n",
    "\n",
    "    1,rusty,corroded,C,0.7654\n",
    "    1,rusty,dirty,C,0.8764\n",
    "    1,rusty,black,C,0.6543\n",
    "\n",
    "\n",
    "    The order in which rows are entered does not matter and so do Row header names. Please follow the order of columns though.\n",
    "    \"\"\"\n"
   ]
  },
  {
   "cell_type": "code",
   "execution_count": null,
   "metadata": {
    "collapsed": true,
    "deletable": true,
    "editable": true
   },
   "outputs": [],
   "source": [
    "def analogyTask(inputDS=analogyDataset,outputFile = anaSoln ): # add more arguments if required\n",
    "    \n",
    "    \"\"\"\n",
    "    Output a file, analogySolution.csv with the following entris\n",
    "    Query word pair, Correct option, predicted option    \n",
    "    \"\"\"\n",
    "    \n",
    "    \n",
    "    return accuracy #return the accuracy of your model after 5 fold cross validation\n",
    "\n"
   ]
  },
  {
   "cell_type": "code",
   "execution_count": 60,
   "metadata": {
    "collapsed": true,
    "deletable": true,
    "editable": true
   },
   "outputs": [],
   "source": [
    "def derivedWOrdTask(inputFile = Q4List):\n",
    "    print 'hello world'\n",
    "    \n",
    "    \"\"\"\n",
    "    Output vectors of 3 files:\n",
    "    1)AnsFastText.txt - fastText vectors of derived words in wordList.csv\n",
    "    2)AnsLzaridou.txt - Lazaridou vectors of the derived words in wordList.csv\n",
    "    3)AnsModel.txt - Vectors for derived words as provided by the model\n",
    "    \n",
    "    For all the three files, each line should contain a derived word and its vector, exactly like \n",
    "    the format followed in \"glove.6B.300d.txt\"\n",
    "    \n",
    "    word<space>dim1<space>dim2........<space>dimN\n",
    "    charitably 256.238 0.875 ...... 1.234\n",
    "    \n",
    "    \"\"\"\n",
    "    \n",
    "    \"\"\"\n",
    "    The function should return 2 values\n",
    "    1) Averaged cosine similarity between the corresponding words from output files 1 and 3, as well as 2 and 3.\n",
    "    \n",
    "        - if there are 3 derived words in wordList.csv, say word1, word2, word3\n",
    "        then find the cosine similiryt between word1 in AnsFastText.txt and word1 in AnsModel.txt.\n",
    "        - Repeat the same for word2 and word3.\n",
    "        - Average the 3 cosine similarity values\n",
    "        - DO the same for word1 to word3 between the files AnsLzaridou.txt and AnsModel.txt \n",
    "        and average the cosine simialities for valuse so obtained\n",
    "        \n",
    "    \"\"\"\n",
    "    return cosVal1,cosVal2\n",
    "    "
   ]
  },
  {
   "cell_type": "code",
   "execution_count": null,
   "metadata": {
    "collapsed": true,
    "deletable": true,
    "editable": true
   },
   "outputs": [],
   "source": [
    "def main():\n",
    "    similarityTask()\n",
    "    anaSim = analogyTask()\n",
    "    derCos1,derCos2 = derivedWordTask\n",
    "    \n",
    "if __name__ == '__main__':\n",
    "    main()"
   ]
  }
 ],
 "metadata": {
  "anaconda-cloud": {},
  "kernelspec": {
   "display_name": "Python 3",
   "language": "python",
   "name": "python3"
  },
  "language_info": {
   "codemirror_mode": {
    "name": "ipython",
    "version": 3
   },
   "file_extension": ".py",
   "mimetype": "text/x-python",
   "name": "python",
   "nbconvert_exporter": "python",
   "pygments_lexer": "ipython3",
   "version": "3.5.1+"
  }
 },
 "nbformat": 4,
 "nbformat_minor": 1
}
