{
 "cells": [
  {
   "cell_type": "code",
   "execution_count": 150,
   "metadata": {
    "collapsed": false
   },
   "outputs": [],
   "source": [
    "import os\n",
    "import sys\n",
    "import random\n",
    "import gzip\n",
    "import os\n",
    "import numpy as np\n",
    "\n",
    "## paths to files. Do not change this\n",
    "simInputFile = \"Q1/word-similarity-dataset\"\n",
    "#analogyInputFile = \"Q1/word-analogy-dataset\"\n",
    "analogyInputFile = \"analogy_small.txt\"\n",
    "vectorgzipFile = \"Q1/glove.6B.300d.txt.gz\"\n",
    "#vectorTxtFile = \"Q1/glove.6B.300d.txt\"   # If you extract and use the gz file, use this.\n",
    "analogyTrainPath = \"Q1/wordRep/\"\n",
    "simOutputFile = \"Q1/simOutput.csv\"\n",
    "simSummaryFile = \"Q1/simSummary.csv\"\n",
    "anaSOln = \"Q1/analogySolution.csv\"\n",
    "Q4List = \"Q4/wordList.csv\"\n",
    "\n",
    "random.seed(100)"
   ]
  },
  {
   "cell_type": "code",
   "execution_count": 151,
   "metadata": {
    "collapsed": false
   },
   "outputs": [
    {
     "name": "stdout",
     "output_type": "stream",
     "text": [
      "18195\n",
      "retrieved 16617\n"
     ]
    }
   ],
   "source": [
    "# Similarity Dataset\n",
    "simDataset = [item.split(\" | \") for item in open(simInputFile).read().splitlines()]\n",
    "# Analogy dataset\n",
    "analogyDataset = [[stuff.strip() for stuff in item.strip('\\n').split('\\n')] for item in open(analogyInputFile).read().split('\\n\\n')]\n",
    "\n",
    "def vectorExtract(simD = simDataset, anaD = analogyDataset, vect = vectorgzipFile):\n",
    "    simList = [stuff for item in simD for stuff in item]\n",
    "    analogyList = [thing for item in anaD for stuff in item[0:4] for thing in stuff.split()]\n",
    "    simList.extend(analogyList)\n",
    "    wordList = set(simList)\n",
    "    print(len(wordList))\n",
    "    wordDict = dict()\n",
    "    \n",
    "    vectorFile = gzip.open(vect, 'r')\n",
    "    for line in vectorFile:\n",
    "        if line.split()[0].strip().decode(\"utf-8\") in wordList:\n",
    "            wordDict[line.split()[0].strip().decode('utf-8')] = line.split()[1:]\n",
    "    \n",
    "    \n",
    "    vectorFile.close()\n",
    "    print('retrieved', len(wordDict.keys()))\n",
    "    return wordDict\n",
    "\n",
    "# Extracting Vectors from Analogy and Similarity Dataset\n",
    "validateVectors = vectorExtract()"
   ]
  },
  {
   "cell_type": "code",
   "execution_count": 160,
   "metadata": {
    "collapsed": false
   },
   "outputs": [],
   "source": [
    "import random\n",
    "import os\n",
    "import sys\n",
    "\n",
    "path = \"./Q1/wordRep/pairs_from_wordnet/\"\n",
    "\n",
    "#Check if all the words exist in word vector\n",
    "def vectorexists(wordlist, worddict):\n",
    "    wordlist = wordlist.split('\\t')\n",
    "    for w in wordlist:\n",
    "        if(w not in worddict):\n",
    "            return False\n",
    "    return True\n",
    "\n",
    "def writeanalogyfile(path, wordDict):\n",
    "    filelist = os.listdir(path)\n",
    "    #print(filelist)\n",
    "    fout = open('analogy_dataset.txt', 'w')\n",
    "    for file in filelist:\n",
    "        alist = []\n",
    "        qfile = open(path+file, 'r')\n",
    "        qlist = [line.strip() for line in qfile]\n",
    "        for otherfiles in filelist:\n",
    "            if(file != otherfiles):\n",
    "                f = open(path+otherfiles, 'r')\n",
    "                l = [line.strip() for line in f]\n",
    "                #print(file, otherfiles, len(l))\n",
    "                alist.extend(l)\n",
    "        for q in qlist:\n",
    "            if(not vectorexists(q, wordDict)):\n",
    "                continue\n",
    "            output = [None]*7\n",
    "            output[0] = q\n",
    "            option = random.randint(0,4)\n",
    "            optionpos = random.randint(0, len(qlist)-1)\n",
    "            while(not vectorexists(qlist[optionpos], wordDict)):\n",
    "                optionpos = random.randint(0, len(qlist)-1)\n",
    "            output[option+1] = qlist[optionpos]\n",
    "            output[6] = chr(ord('a')+option)\n",
    "            for i in range(1, 6):\n",
    "                randop = random.randint(0, len(alist)-1)\n",
    "                while(not vectorexists(alist[randop], wordDict)):\n",
    "                    randop = random.randint(0, len(alist)-1)\n",
    "                if(i!=option+1):\n",
    "                    output[i] = alist[randop]\n",
    "            for pair in output:\n",
    "                pair = pair.replace('\\t', ' ')\n",
    "                fout.write(pair+'\\n')\n",
    "            fout.write('\\n\\n')\n",
    "            fout.flush()\n",
    "\n",
    "#writeanalogyfile(path, wordDict)"
   ]
  },
  {
   "cell_type": "code",
   "execution_count": 188,
   "metadata": {
    "collapsed": false
   },
   "outputs": [],
   "source": [
    "def get_analogy_input(anaF, wordDict):\n",
    "    fin = open(anaF, 'r')\n",
    "    line = fin.readline()\n",
    "    trainx = []\n",
    "    trainy = []\n",
    "    #trainx = np.zeros((1, 3600))\n",
    "    #trainy = np.zeros((1,1))\n",
    "    while(line != \"\"):\n",
    "        if(line == '\\n'):\n",
    "            line = fin.readline()\n",
    "            continue\n",
    "        #x = np.zeros((1, 300))\n",
    "        #y = np.zeros((1,1))\n",
    "        x = []\n",
    "        y = [0]*5\n",
    "        for i in range(0, 6):\n",
    "            line = line.strip().split()\n",
    "            for w in line:\n",
    "                if w in wordDict:\n",
    "                    x.extend(wordDict[w])\n",
    "                    #print(len(wordDict[w]))\n",
    "            line = fin.readline()\n",
    "        answer = line.strip()\n",
    "        answer = ord(answer)-ord('a')\n",
    "        y[answer] = 1\n",
    "        #x = np.array(x)\n",
    "        if(len(x)<3600):\n",
    "            line = fin.readline()\n",
    "            continue\n",
    "        trainx.append(x)\n",
    "        trainy.append(y)\n",
    "        #trainx = np.vstack((trainx, np.array(x).T))\n",
    "        #trainy = np.vstack((trainy, np.array(y)))\n",
    "        line = fin.readline()\n",
    "    trainx = np.array(trainx)\n",
    "    trainy = np.array(trainy)\n",
    "    return trainx[1:], trainx[1:], trainy[1:], trainy[1:]"
   ]
  },
  {
   "cell_type": "code",
   "execution_count": 177,
   "metadata": {
    "collapsed": false
   },
   "outputs": [
    {
     "name": "stdout",
     "output_type": "stream",
     "text": [
      "(6991, 3600) (6991, 5)\n"
     ]
    }
   ],
   "source": [
    "#wordDict = vectorExtract()\n",
    "trainx, trainy, testx, testy = get_analogy_input(analogyInputFile, wordDict)\n",
    "print(trainx.shape, trainy.shape)\n",
    "#print(len(trainx), len(trainy))"
   ]
  },
  {
   "cell_type": "code",
   "execution_count": 172,
   "metadata": {
    "collapsed": false
   },
   "outputs": [
    {
     "data": {
      "text/plain": [
       "0"
      ]
     },
     "execution_count": 172,
     "metadata": {},
     "output_type": "execute_result"
    }
   ],
   "source": [
    "np.min(trainy)"
   ]
  },
  {
   "cell_type": "code",
   "execution_count": 191,
   "metadata": {
    "collapsed": true
   },
   "outputs": [],
   "source": [
    "# Implementation of a simple MLP network with one hidden layer. Tested on the iris data set.\n",
    "# Requires: numpy, sklearn>=0.18.1, tensorflow>=1.0\n",
    "\n",
    "# NOTE: In order to make the code simple, we rewrite x * W_1 + b_1 = x' * W_1'\n",
    "# where x' = [x | 1] and W_1' is the matrix W_1 appended with a new row with elements b_1's.\n",
    "# Similarly, for h * W_2 + b_2\n",
    "import tensorflow as tf\n",
    "import numpy as np\n",
    "#from sklearn import datasets\n",
    "#from sklearn.model_selection import train_test_split\n",
    "\n",
    "RANDOM_SEED = 42\n",
    "tf.set_random_seed(RANDOM_SEED)\n",
    "\n",
    "\n",
    "def init_weights(shape):\n",
    "    \"\"\" Weight initialization \"\"\"\n",
    "    weights = tf.random_normal(shape, stddev=0.1)\n",
    "    return tf.Variable(weights)\n",
    "\n",
    "def forwardprop(X, w_1, w_2):\n",
    "    \"\"\"\n",
    "    Forward-propagation.\n",
    "    IMPORTANT: yhat is not softmax since TensorFlow's softmax_cross_entropy_with_logits() does that internally.\n",
    "    \"\"\"\n",
    "    h    = tf.nn.sigmoid(tf.matmul(X, w_1))  # The \\sigma function\n",
    "    yhat = tf.matmul(h, w_2)  # The \\varphi function\n",
    "    return yhat\n",
    "\n",
    "def get_iris_data():\n",
    "    \"\"\" Read the iris data set and split them into training and test sets \"\"\"\n",
    "    iris   = datasets.load_iris()\n",
    "    data   = iris[\"data\"]\n",
    "    target = iris[\"target\"]\n",
    "\n",
    "    # Prepend the column of 1s for bias\n",
    "    N, M  = data.shape\n",
    "    all_X = np.ones((N, M + 1))\n",
    "    all_X[:, 1:] = data\n",
    "\n",
    "    # Convert into one-hot vectors\n",
    "    num_labels = len(np.unique(target))\n",
    "    all_Y = np.eye(num_labels)[target]  # One liner trick!\n",
    "    return train_test_split(all_X, all_Y, test_size=0.33, random_state=RANDOM_SEED)\n",
    "\n",
    "def trainnetwork(anaF, wordDict):\n",
    "    #train_X, test_X, train_y, test_y = get_iris_data()\n",
    "    train_X, test_X, train_y, test_y = get_analogy_input(anaF, wordDict)\n",
    "\n",
    "    # Layer's sizes\n",
    "    x_size = train_X.shape[1]   # Number of input nodes: 4 features and 1 bias\n",
    "    h_size = 256                # Number of hidden nodes\n",
    "    y_size = train_y.shape[1]   # Number of outcomes (3 iris flowers)\n",
    "\n",
    "    # Symbols\n",
    "    X = tf.placeholder(\"float\", shape=[None, x_size])\n",
    "    y = tf.placeholder(\"float\", shape=[None, y_size])\n",
    "\n",
    "    # Weight initializations\n",
    "    w_1 = init_weights((x_size, h_size))\n",
    "    w_2 = init_weights((h_size, y_size))\n",
    "\n",
    "    # Forward propagation\n",
    "    yhat    = forwardprop(X, w_1, w_2)\n",
    "    predict = tf.argmax(yhat, axis=1)\n",
    "\n",
    "    # Backward propagation\n",
    "    cost    = tf.reduce_mean(tf.nn.softmax_cross_entropy_with_logits(labels=y, logits=yhat))\n",
    "    updates = tf.train.GradientDescentOptimizer(0.01).minimize(cost)\n",
    "\n",
    "    # Run SGD\n",
    "    sess = tf.Session()\n",
    "    init = tf.global_variables_initializer()\n",
    "    sess.run(init)\n",
    "\n",
    "    for epoch in range(15):\n",
    "        # Train with each example\n",
    "        for i in range(len(train_X)):\n",
    "            sess.run(updates, feed_dict={X: train_X[i: i + 1], y: train_y[i: i + 1]})\n",
    "\n",
    "        train_accuracy = np.mean(np.argmax(train_y, axis=1) ==\n",
    "                                 sess.run(predict, feed_dict={X: train_X, y: train_y}))\n",
    "        test_accuracy  = np.mean(np.argmax(test_y, axis=1) ==\n",
    "                                 sess.run(predict, feed_dict={X: test_X, y: test_y}))\n",
    "\n",
    "        print(\"Epoch = %d, train accuracy = %.2f%%, test accuracy = %.2f%%\"\n",
    "              % (epoch + 1, 100. * train_accuracy, 100. * test_accuracy))\n",
    "\n",
    "    sess.close()\n",
    "\n"
   ]
  },
  {
   "cell_type": "code",
   "execution_count": 192,
   "metadata": {
    "collapsed": false
   },
   "outputs": [
    {
     "name": "stdout",
     "output_type": "stream",
     "text": [
      "Epoch = 1, train accuracy = 27.75%, test accuracy = 27.75%\n",
      "Epoch = 2, train accuracy = 38.94%, test accuracy = 38.94%\n",
      "Epoch = 3, train accuracy = 52.72%, test accuracy = 52.72%\n",
      "Epoch = 4, train accuracy = 67.37%, test accuracy = 67.37%\n",
      "Epoch = 5, train accuracy = 81.18%, test accuracy = 81.18%\n",
      "Epoch = 6, train accuracy = 91.90%, test accuracy = 91.90%\n",
      "Epoch = 7, train accuracy = 96.82%, test accuracy = 96.82%\n",
      "Epoch = 8, train accuracy = 99.46%, test accuracy = 99.46%\n",
      "Epoch = 9, train accuracy = 99.91%, test accuracy = 99.91%\n",
      "Epoch = 10, train accuracy = 100.00%, test accuracy = 100.00%\n",
      "Epoch = 11, train accuracy = 100.00%, test accuracy = 100.00%\n",
      "Epoch = 12, train accuracy = 100.00%, test accuracy = 100.00%\n",
      "Epoch = 13, train accuracy = 100.00%, test accuracy = 100.00%\n",
      "Epoch = 14, train accuracy = 100.00%, test accuracy = 100.00%\n",
      "Epoch = 15, train accuracy = 100.00%, test accuracy = 100.00%\n"
     ]
    }
   ],
   "source": [
    "trainnetwork(analogyInputFile, wordDict)"
   ]
  },
  {
   "cell_type": "code",
   "execution_count": null,
   "metadata": {
    "collapsed": true
   },
   "outputs": [],
   "source": []
  }
 ],
 "metadata": {
  "kernelspec": {
   "display_name": "Python 3",
   "language": "python",
   "name": "python3"
  },
  "language_info": {
   "codemirror_mode": {
    "name": "ipython",
    "version": 3
   },
   "file_extension": ".py",
   "mimetype": "text/x-python",
   "name": "python",
   "nbconvert_exporter": "python",
   "pygments_lexer": "ipython3",
   "version": "3.5.2"
  }
 },
 "nbformat": 4,
 "nbformat_minor": 2
}
